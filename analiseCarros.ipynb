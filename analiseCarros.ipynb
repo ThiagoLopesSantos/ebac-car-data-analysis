{
 "cells": [
  {
   "cell_type": "code",
   "execution_count": null,
   "id": "d635488f",
   "metadata": {},
   "outputs": [],
   "source": [
    "#importando e instalando a biblioteca do pandas e a biblioteca de leitura de arquivos do excel\n",
    "import pandas as pd  \n",
    "%pip install pandas \n",
    "%pip install openpyxl "
   ]
  },
  {
   "cell_type": "code",
   "execution_count": 4,
   "id": "37f0dbba",
   "metadata": {},
   "outputs": [],
   "source": [
    "# criando a variavel df(dataframe) e atribuindo ao carregamento da planilha \n",
    "df = pd.read_excel('dados_carros.xlsx') "
   ]
  },
  {
   "cell_type": "code",
   "execution_count": null,
   "id": "45252efd",
   "metadata": {},
   "outputs": [],
   "source": [
    "# Percorre todas as colunas do seu DataFrame >\n",
    "# E mostra os tipos de variáveis contidas na planilha.\n",
    "df.dtypes "
   ]
  },
  {
   "cell_type": "code",
   "execution_count": null,
   "id": "925cc535",
   "metadata": {},
   "outputs": [],
   "source": [
    "# sort_values serve para ordenar os dados do local selecionado,\n",
    "# reorganizando a planilha com ascending=False para por na ordem decrescente \n",
    "# e com o head() será mostrado os 5 primeiros apenas\n",
    "df.sort_values(by='cidade_gasolina', ascending=False).head()[['modelo', 'cidade_gasolina']] \n"
   ]
  },
  {
   "cell_type": "code",
   "execution_count": null,
   "id": "5acc46fd",
   "metadata": {},
   "outputs": [],
   "source": [
    "#Selecionando as colunas com [[]] duplos, o externo para selecionar e \n",
    "# o interno para criar a lista de nomes das colunas e \n",
    "# uso do mean() para calcular a média entre elas.\n",
    "# round(2) para diminuir as casas decimais\n",
    "df[['cidade_alcool', 'estrada_alcool']].mean().round(2)\n"
   ]
  },
  {
   "cell_type": "code",
   "execution_count": null,
   "id": "591ea526",
   "metadata": {},
   "outputs": [],
   "source": [
    "#criando uma nova coluna e atribuindo a ela o resultado da separação\n",
    "# das palavras na coluna modelo, obtendo a ontadora de cada um.\n",
    "df['montadora'] = df['modelo'].str.split(' ').str[0]\n",
    "\n",
    "# Reorganiza a ordem das colunas para que 'montadora' apareça ao lado do 'modelo'.\n",
    "df = df[['Unnamed: 0','montadora', 'modelo', 'preco', 'unidades_vendidas','cidade_alcool', 'cidade_gasolina', 'estrada_alcool', 'estrada_gasolina', 'custo_revisao']]\n",
    "\n",
    "#exibe a planilha\n",
    "df"
   ]
  },
  {
   "cell_type": "code",
   "execution_count": null,
   "id": "f3f7f2ad",
   "metadata": {},
   "outputs": [],
   "source": [
    "#criando uma nova variavel com a copia da tabela\n",
    "df_new = df.copy()\n",
    "\n",
    "#pega o nome do carro, remove a primeira palavra (a marca) e \n",
    "# salva o resultado de volta na coluna modelo.\n",
    "df_new['modelo'] = df_new['modelo'].str.split(' ').str[1:].str.join(' ')\n",
    "\n",
    "#exibe a planilha\n",
    "df_new"
   ]
  },
  {
   "cell_type": "code",
   "execution_count": null,
   "id": "77a631a0",
   "metadata": {},
   "outputs": [],
   "source": [
    "#agrupando os carros por montadora e calculando a \n",
    "# média de preço por montadora e selecionando as \n",
    "# 5 primeiras por ordem decrescente\n",
    "\n",
    "df.groupby('montadora')['preco'].mean().sort_values(ascending=False).head()\n"
   ]
  },
  {
   "cell_type": "code",
   "execution_count": null,
   "id": "e989cd76",
   "metadata": {},
   "outputs": [],
   "source": [
    "#Selecionando a coluna custo_revisao e  trazendoem ordem crescente\n",
    "#os 10 carros com menor custo\n",
    "df_new.sort_values(by='custo_revisao', ascending=True).head(10)[['montadora','modelo', 'custo_revisao']] \n"
   ]
  },
  {
   "cell_type": "code",
   "execution_count": null,
   "id": "783644da",
   "metadata": {},
   "outputs": [],
   "source": [
    "# Ao usar .loc[], você está pedindo ao Pandas para localizar e\n",
    "# mostrar as linhas que correspondem àquela lista de índices que \n",
    "# a gente encontrou com o groupby e o idxmax()\n",
    "\n",
    "#=== O QUE CODIGO FAZ ===#\n",
    "# Agrupa os dados e encontra a linha do carro mais vendido para \n",
    "# cada montadora.\n",
    "# Cria uma nova tabela com base nesses resultados.\n",
    "# Ordena essa nova tabela pelo número de unidades_vendidas, \n",
    "# do maior para o menor.\n",
    "# Exibe apenas as colunas que você quer ver.\n",
    "\n",
    "df_new.loc[df_new.groupby('montadora')['unidades_vendidas'].idxmax()].sort_values(by='unidades_vendidas', ascending=False)[['montadora', 'modelo', 'unidades_vendidas']] \n"
   ]
  },
  {
   "cell_type": "code",
   "execution_count": null,
   "id": "fa2988e0",
   "metadata": {},
   "outputs": [],
   "source": [
    "#VARIAVEIS#\n",
    "# Custo da gasolina em 2 anos\n",
    "custoGasolinaPorMes = 150 * 5.50\n",
    "custoGasolinaPor2Anos = custoGasolinaPorMes * 24\n",
    "\n",
    "# IPVA em 2 anos\n",
    "ipva = df_new['preco'] * 0.04\n",
    "ipvaPor2Anos = ipva * 2\n",
    "\n",
    "# Custo de revisão em 2 anos\n",
    "custoRevisaoPor2Anos = df_new['custo_revisao'] * 2\n",
    "\n",
    "# novas colunas\n",
    "df_new['consumo_gasolina'] = custoGasolinaPor2Anos\n",
    "df_new['custo_IPVA'] = ipvaPor2Anos\n",
    "df_new['custo_revisao'] = custoRevisaoPor2Anos\n",
    "\n",
    "# Criando a nova coluna 'custo_total'\n",
    "df_new['custo_total'] = custoGasolinaPor2Anos + ipvaPor2Anos + custoRevisaoPor2Anos\n",
    "\n",
    "# Exibe as colunas relevantes para verificar o resultado\n",
    "df_new[['Unnamed: 0','montadora', 'modelo', 'consumo_gasolina', 'custo_IPVA', 'custo_revisao', 'custo_total']].sort_values(by='custo_total', ascending=False).head()\n"
   ]
  },
  {
   "cell_type": "code",
   "execution_count": null,
   "id": "99deebc8",
   "metadata": {},
   "outputs": [],
   "source": [
    "df_new[['Unnamed: 0','montadora', 'modelo', 'consumo_gasolina', 'custo_IPVA', 'custo_revisao', 'custo_total']].sort_values(by='custo_total', ascending=True).head()\n"
   ]
  },
  {
   "cell_type": "code",
   "execution_count": null,
   "id": "dbb65d00",
   "metadata": {},
   "outputs": [],
   "source": []
  }
 ],
 "metadata": {
  "kernelspec": {
   "display_name": ".venv",
   "language": "python",
   "name": "python3"
  },
  "language_info": {
   "codemirror_mode": {
    "name": "ipython",
    "version": 3
   },
   "file_extension": ".py",
   "mimetype": "text/x-python",
   "name": "python",
   "nbconvert_exporter": "python",
   "pygments_lexer": "ipython3",
   "version": "3.13.7"
  }
 },
 "nbformat": 4,
 "nbformat_minor": 5
}
